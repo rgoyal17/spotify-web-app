{
 "cells": [
  {
   "cell_type": "code",
   "execution_count": 1,
   "metadata": {},
   "outputs": [],
   "source": [
    "import pandas as pd"
   ]
  },
  {
   "cell_type": "code",
   "execution_count": 16,
   "metadata": {},
   "outputs": [],
   "source": [
    "df = pd.read_csv(\"../Data/filtered_data.csv\")"
   ]
  },
  {
   "cell_type": "code",
   "execution_count": 18,
   "metadata": {},
   "outputs": [
    {
     "name": "stdout",
     "output_type": "stream",
     "text": [
      "index                                   23\n",
      "acousticness                         0.194\n",
      "artists                    ['Linkin Park']\n",
      "danceability                         0.543\n",
      "energy                               0.923\n",
      "id                  0uIDQUwQmUltzyozMSezwQ\n",
      "instrumentalness                   0.00446\n",
      "liveness                              0.43\n",
      "loudness                            -3.992\n",
      "name                              Blackout\n",
      "speechiness                         0.0768\n",
      "tempo                              134.997\n",
      "valence                              0.366\n",
      "Name: 23, dtype: object\n",
      "index                                   16\n",
      "acousticness                       0.00306\n",
      "artists                    ['Linkin Park']\n",
      "danceability                         0.547\n",
      "energy                               0.936\n",
      "id                  6Hxw4iKjZOyPIHXgbOwVZq\n",
      "instrumentalness                      0.27\n",
      "liveness                             0.278\n",
      "loudness                            -4.232\n",
      "name                 When They Come for Me\n",
      "speechiness                          0.049\n",
      "tempo                               91.997\n",
      "valence                              0.445\n",
      "Name: 16, dtype: object\n"
     ]
    }
   ],
   "source": [
    "df = df[(df.artists == \"['Linkin Park']\")]\n",
    "columns = ['acousticness', 'artists', 'danceability', 'energy', 'id', 'instrumentalness', 'liveness', 'loudness', 'name', 'speechiness', 'tempo', 'valence']\n",
    "df = df[columns]\n",
    "df = df.reset_index()\n",
    "# df\n",
    "print(df.loc[23])\n",
    "print(df.loc[16])"
   ]
  }
 ],
 "metadata": {
  "kernelspec": {
   "display_name": "Python 3",
   "language": "python",
   "name": "python3"
  },
  "language_info": {
   "codemirror_mode": {
    "name": "ipython",
    "version": 3
   },
   "file_extension": ".py",
   "mimetype": "text/x-python",
   "name": "python",
   "nbconvert_exporter": "python",
   "pygments_lexer": "ipython3",
   "version": "3.7.1"
  }
 },
 "nbformat": 4,
 "nbformat_minor": 2
}
