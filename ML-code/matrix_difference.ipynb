{
 "cells": [
  {
   "cell_type": "code",
   "execution_count": 1,
   "metadata": {},
   "outputs": [],
   "source": [
    "import pandas as pd\n",
    "import numpy as np"
   ]
  },
  {
   "cell_type": "code",
   "execution_count": 3,
   "metadata": {},
   "outputs": [],
   "source": [
    "df_100 = pd.read_csv(\"old_output/output_50_100iter.csv\")\n",
    "df_200 = pd.read_csv(\"old_output/output_50_200iter.csv\")"
   ]
  },
  {
   "cell_type": "code",
   "execution_count": 4,
   "metadata": {},
   "outputs": [
    {
     "name": "stdout",
     "output_type": "stream",
     "text": [
      "[[7.03975660e-04 6.15092132e-02 1.05819660e-03 ... 1.51414899e-02\n",
      "  3.08311185e-03 1.07539066e-03]\n",
      " [7.15729751e-05 1.71624460e-02 1.05173597e-03 ... 1.76723003e-02\n",
      "  3.09740951e-03 1.21291262e-03]\n",
      " [1.30135694e-05 1.65068701e-04 7.69576402e-03 ... 3.94006571e-04\n",
      "  2.00335209e-03 2.26378769e-03]\n",
      " ...\n",
      " [8.53276067e-05 2.63953997e-02 1.42581091e-04 ... 1.57683046e-03\n",
      "  3.43580880e-04 1.55017644e-04]\n",
      " [5.17511127e-04 5.51374462e-03 2.86117794e-04 ... 1.29208891e-03\n",
      "  4.88868151e-04 3.25442030e-04]\n",
      " [1.17888857e-05 9.47674113e-05 2.23136537e-03 ... 1.54238590e-04\n",
      "  3.54270829e-04 1.69921992e-03]]\n"
     ]
    },
    {
     "data": {
      "text/plain": [
       "270.26653882499073"
      ]
     },
     "execution_count": 4,
     "metadata": {},
     "output_type": "execute_result"
    }
   ],
   "source": [
    "array_100 = df_100.values\n",
    "array_200 = df_200.values\n",
    "result = np.subtract(array_200, array_100)\n",
    "np.sqrt(np.sum((array_200-array_100)**2))"
   ]
  }
 ],
 "metadata": {
  "kernelspec": {
   "display_name": "Python 3",
   "language": "python",
   "name": "python3"
  },
  "language_info": {
   "codemirror_mode": {
    "name": "ipython",
    "version": 3
   },
   "file_extension": ".py",
   "mimetype": "text/x-python",
   "name": "python",
   "nbconvert_exporter": "python",
   "pygments_lexer": "ipython3",
   "version": "3.7.1"
  }
 },
 "nbformat": 4,
 "nbformat_minor": 2
}
